{
  "cells": [
    {
      "cell_type": "markdown",
      "metadata": {
        "id": "lwatN8xnKVHt"
      },
      "source": [
        "# K-means 클러스터링 실습\n",
        "\n",
        "---\n",
        "\n",
        "#### 1. 본 실습에서는 K-means 클러스터링 알고리즘을 사용하여 간단한 데이터 세트에 클러스터링을 수행합니다.\n",
        "#### 2. K-means는 주어진 데이터를 k개의 클러스터로 그룹화하는 비지도 학습 알고리즘입니다.\n",
        "#### 3. 이 알고리즘은 각 데이터 포인트와 해당 데이터 포인트가 속한 클러스터 중심점 간의 거리의 제곱 합을 최소화하는 방식으로 작동합니다.\n",
        "#### 4. 이를 통해 각 클러스터 내의 데이터 포인트들이 중심점 주변에 밀집하도록 합니다\n",
        "---\n",
        "<br>\n",
        "<br>\n",
        "\n",
        "##실습 과정:\n",
        "###1. 데이터 생성:\n",
        "* 평균이 6이고 표준편차가 10인 정규분포를 따르는 100개의 2차원 데이터 포인트를 생성합니다.\n",
        "  * 이 데이터는 실습을 위해 인위적으로 생성된 것으로, 실제 데이터셋을 모방합니다.\n",
        "<br>\n",
        "<br>\n",
        "\n",
        "###2. 모델 초기화 및 클러스터링:\n",
        "\n",
        "* K-means 클러스터링 모델을 초기화하고, 클러스터의 수를 3으로 설정합니다.\n",
        "  * 이는 데이터를 세 개의 그룹으로 나누겠다는 의미입니다.\n",
        "\n",
        "\n",
        "* fit 메소드를 사용하여 데이터에 클러스터링을 수행합니다.\n",
        "  * 이 과정에서 모델은 각 클러스터의 중심을 찾고, 각 데이터 포인트를 가장 가까운 클러스터에 할당합니다.\n",
        "<br>\n",
        "<br>\n",
        "\n",
        "###3. 결과 시각화:\n",
        "\n",
        "* 클러스터링의 결과를 시각화하기 위해 matplotlib 라이브러리를 사용합니다.\n",
        "* 각 클러스터는 다른 색으로 표시되어 클러스터링 결과를 명확하게 확인할 수 있습니다.\n",
        "* scatter 함수는 각 데이터 포인트의 x, y 좌표를 그래프에 표시하며, 클러스터링 결과에 따라 색상이 결정됩니다.\n",
        "* 'rainbow' 색상 맵을 사용하여 클러스터를 구분하고, 각 클러스터의 데이터 포인트가 어떻게 그룹화되었는지 시각적으로 파악할 수 있습니다.\n",
        "\n",
        "<br>\n",
        "<br>\n",
        "\n",
        "#### 이 코드를 통해 클러스터링의 기본적인 이해를 돕고, 실제 데이터에 K-means 알고리즘을 적용하는 방법을 배울 수 있습니다.\n",
        "####그래프를 통해 각 클러스터가 어떻게 형성되었는지 직관적으로 이해할 수 있으며, 클러스터링이 왜 유용한 지도 학습하게 됩니다."
      ]
    },
    {
      "cell_type": "code",
      "execution_count": null,
      "metadata": {
        "colab": {
          "base_uri": "https://localhost:8080/",
          "height": 430
        },
        "id": "PGrnudxlKwTm",
        "outputId": "8a0cbf05-8357-48ba-d168-66f747b40669"
      },
      "outputs": [
        {
          "ename": "",
          "evalue": "",
          "output_type": "error",
          "traceback": [
            "\u001b[1;31mRunning cells with 'Python 3.12.2' requires the ipykernel package.\n",
            "\u001b[1;31mRun the following command to install 'ipykernel' into the Python environment. \n",
            "\u001b[1;31mCommand: 'c:/Users/USER/AppData/Local/Programs/Python/Python312/python.exe -m pip install ipykernel -U --user --force-reinstall'"
          ]
        }
      ],
      "source": [
        "import numpy as np\n",
        "import matplotlib.pyplot as plt\n",
        "from sklearn.cluster import KMeans\n",
        "from sklearn import metrics\n",
        "\n",
        "# 1. 데이터 준비 : 임의의 랜덤값 100개 생성 (X1, X2) -> (X100, Y100)\n",
        "#  - 100개의 2차원 데이터 포인트 생성\n",
        "#  - 각 데이터 포인트는 평균이 6이고 표준편차가 10인 표준정규분포를 따름\n",
        "X = 10 * np.random.randn(100, 2) + 6\n",
        "\n",
        "# 2.1 K-Means 모델 설정\n",
        "# K-means 클러스터링 모델을 초기화\n",
        "# - 클러스터 수를 3으로 설정\n",
        "# - 클러스터 중심점 계산은 10회 실시\n",
        "kmeans_model = KMeans(n_clusters=3, n_init=10)\n",
        "\n",
        "\n",
        "# 2.2 K-Means 학습 진행\n",
        "# 데이터에 대하여 K-means 클러스터링을 수행\n",
        "kmeans_model.fit(X)\n",
        "\n",
        "# 3. 학습 후 결B과 값 얻기\n",
        "#  - 클러스터 레이블\n",
        "#  - 각 클러스터의 중심점 좌표\n",
        "labels = kmeans_model.labels_  # 각 데이터 포인트의 클러스터 레이블\n",
        "centers = kmeans_model.cluster_centers_  # 각 클러스터의 중심점\n",
        "\n",
        "# 4. 클러스터링 결과 시각화\n",
        "#  - X[:, 0]과 X[:, 1]은 각각 데이터 포인트의 x, y 좌표\n",
        "#     -> numpy를 활용한 2차원 배열(리스트) 표현법\n",
        "#     -> numpy는 학기 중 수업 예정\n",
        "#  - c 파라미터에 클러스터 레이블을 지정하여 다른 클러스터를 다른 색으로 표시.\n",
        "#     -> 즉 데이터[2차원 배열 X]에서 각 행별로 클러스트 번호(c=label) 매핑\n",
        "#  - cmap='rainbow'로 색상 맵 설정하여 다양한 색상으로 표현.\n",
        "plt.scatter(X[:, 0], X[:, 1], c=labels, cmap='rainbow')\n",
        "\n",
        "#  - 각 클러스트별 중심점(Cluseter centroid) 출력\n",
        "plt.scatter(centers[:, 0], centers[:, 1], c='black', s=200, alpha=0.5)\n",
        "\n",
        "\n",
        "# 최종 그래프를 화면에 표시.\n",
        "plt.show()"
      ]
    },
    {
      "cell_type": "code",
      "execution_count": null,
      "metadata": {
        "colab": {
          "base_uri": "https://localhost:8080/"
        },
        "id": "DUqITq1ilREK",
        "outputId": "608d0470-85a7-49b1-f11c-1b7276f1e1eb"
      },
      "outputs": [
        {
          "name": "stdout",
          "output_type": "stream",
          "text": [
            "Model Inertia: 7527.241372958475\n"
          ]
        }
      ],
      "source": [
        "# 6. 모델 평가\n",
        "inertia = kmeans_model.inertia_  # 모델의 이너셔 (클러스터 내 거리 제곱의 합)\n",
        "print(\"Model Inertia:\", inertia)"
      ]
    }
  ],
  "metadata": {
    "colab": {
      "provenance": []
    },
    "kernelspec": {
      "display_name": "Python 3",
      "name": "python3"
    },
    "language_info": {
      "name": "python",
      "version": "3.12.2"
    }
  },
  "nbformat": 4,
  "nbformat_minor": 0
}
